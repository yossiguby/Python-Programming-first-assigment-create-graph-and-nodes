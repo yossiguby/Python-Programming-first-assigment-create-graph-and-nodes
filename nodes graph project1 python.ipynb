{
 "cells": [
  {
   "cell_type": "markdown",
   "metadata": {},
   "source": [
    "part 1"
   ]
  },
  {
   "cell_type": "code",
   "execution_count": 12,
   "metadata": {},
   "outputs": [],
   "source": [
    "from graph_project import Graph,node,NonDirectionalGraph"
   ]
  },
  {
   "cell_type": "markdown",
   "metadata": {},
   "source": [
    "task2-q1"
   ]
  },
  {
   "cell_type": "code",
   "execution_count": 13,
   "metadata": {},
   "outputs": [
    {
     "name": "stdout",
     "output_type": "stream",
     "text": [
      "n1:{'n2': 10, 'n4': 20, 'n5': 20, 'n6': 5, 'n7': 15}\n",
      "n2:{'n3': 5, 'n4': 10}\n",
      "n3:{'n4': 5, 'n2': 15}\n",
      "n4:{'n5': 10}\n",
      "n5:{'n6': 5}\n",
      "n6:{}\n",
      "n7:{'n6': 10}\n",
      "n8:{'n2': 20, 'n1': 5, 'n7': 5}\n",
      "n9:{'n10': 10, 'n2': 15, 'n8': 20}\n",
      "n10:{'n3': 15, 'n2': 5}\n"
     ]
    }
   ],
   "source": [
    "node1=node('n1')\n",
    "node1.update('n2',10)\n",
    "node1.update('n4',20)\n",
    "node1.update('n5',20)\n",
    "node1.update('n6',5)\n",
    "node1.update('n7',15)\n",
    "\n",
    "node2=node('n2')\n",
    "node2.update('n3',5)\n",
    "node2.update('n4',10)\n",
    "\n",
    "\n",
    "node3=node('n3')\n",
    "node3.update('n4',5)\n",
    "node3.update('n2',15)\n",
    "    \n",
    "node4=node('n4')\n",
    "node4.update('n5',10)\n",
    "\n",
    "node5=node('n5')\n",
    "node5.update('n6',5)\n",
    "\n",
    "node6=node('n6')\n",
    "\n",
    "node7=node('n7')\n",
    "node7.update('n6',10)\n",
    "\n",
    "node8=node('n8')\n",
    "node8.update('n2',20)\n",
    "node8.update('n1',5)\n",
    "node8.update('n7',5)\n",
    "\n",
    "node9=node('n9')\n",
    "node9.update('n10',10)\n",
    "node9.update('n2',15)\n",
    "node9.update('n8',20)\n",
    "\n",
    "node10=node('n10')\n",
    "node10.update('n3',15)\n",
    "node10.update('n2',5)\n",
    "print (f'{node1}:{node1.neighbors}')\n",
    "print (f'{node2}:{node2.neighbors}')\n",
    "print (f'{node3}:{node3.neighbors}')\n",
    "print (f'{node4}:{node4.neighbors}')\n",
    "print (f'{node5}:{node5.neighbors}')\n",
    "print (f'{node6}:{node6.neighbors}')\n",
    "print (f'{node7}:{node7.neighbors}')\n",
    "print (f'{node8}:{node8.neighbors}')\n",
    "print (f'{node9}:{node9.neighbors}')\n",
    "print (f'{node10}:{node10.neighbors}')\n",
    "    "
   ]
  },
  {
   "cell_type": "code",
   "execution_count": 14,
   "metadata": {},
   "outputs": [
    {
     "name": "stdout",
     "output_type": "stream",
     "text": [
      "node1\n",
      "node2\n",
      "node3\n",
      "node4\n",
      "node5\n",
      "node6\n",
      "node7\n",
      "node8\n",
      "node9\n",
      "node10\n"
     ]
    }
   ],
   "source": [
    "for i in range (1,11):\n",
    "    i='node'+str(i)\n",
    "    print (i)\n",
    "    \n",
    "    #print (f'{'node'+i.name}')"
   ]
  },
  {
   "cell_type": "markdown",
   "metadata": {},
   "source": [
    "TAS2-Q2"
   ]
  },
  {
   "cell_type": "code",
   "execution_count": 15,
   "metadata": {},
   "outputs": [
    {
     "name": "stdout",
     "output_type": "stream",
     "text": [
      "<class 'graph_project.node'>\n",
      "n1\n",
      "5\n",
      "5\n",
      "True\n",
      "True\n",
      "False True\n",
      "\n",
      "True False\n",
      "cheak is_neighbor \n",
      "True\n",
      "False\n",
      "cheak update\n",
      "{'n2': 10, 'n4': 20, 'n5': 20, 'n6': 5, 'n7': 15}\n",
      "{'n2': 10, 'n4': 20, 'n5': 20, 'n6': 5, 'n7': 15, 'n3': 10}\n",
      "same key name and self name is not allowed\n",
      "{'n2': 10, 'n4': 20, 'n5': 20, 'n6': 5, 'n7': 15, 'n3': 10}\n",
      "{'n2': 10, 'n4': 20, 'n5': 20, 'n6': 5, 'n7': 15, 'n3': 10}\n",
      "{'n2': 10, 'n4': 20, 'n5': 20, 'n6': 5, 'n7': 15, 'n3': 25}\n",
      "cheak remove neighbors\n",
      "{'n2': 10, 'n4': 20, 'n5': 20, 'n6': 5, 'n7': 15, 'n3': 25}\n",
      "{'n2': 10, 'n4': 20, 'n5': 20, 'n6': 5, 'n7': 15}\n",
      "{'n2': 10, 'n4': 20, 'n5': 20, 'n6': 5, 'n7': 15}\n",
      "{}\n",
      "{}\n",
      "cheak is_isolated\n",
      "{'n2': 10, 'n4': 20, 'n5': 20, 'n6': 5, 'n7': 15}\n",
      "False\n",
      "{}\n",
      "True\n"
     ]
    }
   ],
   "source": [
    "#cheaking!\n",
    "print(type(node1))\n",
    "print(node1)\n",
    "print(len(node1.neighbors.keys()))\n",
    "print(len(node1))\n",
    "print('n2' in node1)\n",
    "print(node2.name in node1)\n",
    "print(node1==node2,node1!=node2)\n",
    "print()\n",
    "copy1=node2\n",
    "print(copy1==node2,copy1!=node2)\n",
    "print (\"cheak is_neighbor \")\n",
    "print(node1.is_neighbor(\"n2\"))\n",
    "print(node1.is_neighbor(\"n1\"))\n",
    "print (\"cheak update\")\n",
    "print (node1.neighbors)\n",
    "node1.update(\"n3\",10)\n",
    "print (node1.neighbors)\n",
    "node1.update(\"n1\",10)\n",
    "print (node1.neighbors)\n",
    "node1.update(\"n3\",5)\n",
    "print (node1.neighbors)\n",
    "node1.update(\"n3\",25)\n",
    "print (node1.neighbors)\n",
    "print (\"cheak remove neighbors\")\n",
    "print (node1.neighbors)\n",
    "node1.revmove_neighbor(\"n3\")\n",
    "print (node1.neighbors)\n",
    "node1.revmove_neighbor(\"n1\",)\n",
    "print (node1.neighbors)\n",
    "print (node6.neighbors)\n",
    "node6.revmove_neighbor(\"n1\")\n",
    "print (node6.neighbors)\n",
    "print (\"cheak is_isolated\")\n",
    "print (node1.neighbors)\n",
    "print(node1.is_isolated())\n",
    "print (node6.neighbors)\n",
    "print(node6.is_isolated())"
   ]
  },
  {
   "cell_type": "markdown",
   "metadata": {},
   "source": [
    "task2-q3"
   ]
  },
  {
   "cell_type": "code",
   "execution_count": 16,
   "metadata": {},
   "outputs": [
    {
     "name": "stdout",
     "output_type": "stream",
     "text": [
      "there is 20 edges. the total weight is 225\n"
     ]
    }
   ],
   "source": [
    "edgesum = 0\n",
    "weightsum = 0\n",
    "nodeslist = [node1,node2,node3,node4,node5,node6,node7,node8,node9,node10]\n",
    "for node in nodeslist:\n",
    "    edgesum+=len(node.neighbors.values())\n",
    "    \n",
    "for node in nodeslist:\n",
    "    for key in node.neighbors.keys():\n",
    "        weightsum+=node.neighbors[key]\n",
    "   \n",
    "print (f'there is {edgesum} edges. the total weight is {weightsum}')\n",
    "   "
   ]
  },
  {
   "cell_type": "markdown",
   "metadata": {},
   "source": [
    "task2-Q4\n",
    "note to my answer:\n",
    "sortedlist1= sorted list by length of nodes and show  length of edges\n",
    "sortedlist2= sorted list by length of nodes (dont show the length of edges)"
   ]
  },
  {
   "cell_type": "code",
   "execution_count": 17,
   "metadata": {},
   "outputs": [
    {
     "name": "stdout",
     "output_type": "stream",
     "text": [
      "[<graph_project.node object at 0x000001FE13380A90>, <graph_project.node object at 0x000001FE13380A58>, <graph_project.node object at 0x000001FE13380908>, <graph_project.node object at 0x000001FE13380978>, <graph_project.node object at 0x000001FE133809B0>, <graph_project.node object at 0x000001FE13380A20>, <graph_project.node object at 0x000001FE13380B38>, <graph_project.node object at 0x000001FE13380B00>, <graph_project.node object at 0x000001FE13380AC8>, <graph_project.node object at 0x000001FE13380940>]\n"
     ]
    },
    {
     "data": {
      "text/plain": [
       "[(<graph_project.node at 0x1fe13380a90>, 0),\n",
       " (<graph_project.node at 0x1fe13380a58>, 1),\n",
       " (<graph_project.node at 0x1fe13380908>, 1),\n",
       " (<graph_project.node at 0x1fe13380978>, 1),\n",
       " (<graph_project.node at 0x1fe133809b0>, 2),\n",
       " (<graph_project.node at 0x1fe13380a20>, 2),\n",
       " (<graph_project.node at 0x1fe13380b38>, 2),\n",
       " (<graph_project.node at 0x1fe13380b00>, 3),\n",
       " (<graph_project.node at 0x1fe13380ac8>, 3),\n",
       " (<graph_project.node at 0x1fe13380940>, 5)]"
      ]
     },
     "execution_count": 17,
     "metadata": {},
     "output_type": "execute_result"
    }
   ],
   "source": [
    "nodeslist = [node1,node2,node3,node4,node5,node6,node7,node8,node9,node10]\n",
    "nodeslengthlist = []\n",
    "for node in nodeslist:\n",
    "    nodeslengthlist.append((node,len(node.neighbors.keys())))\n",
    "sortedlist1=sorted(nodeslengthlist,key=lambda x: x[1])\n",
    "sortedlist2=[]\n",
    "sortedlist2=[node for node,len in sortedlist1]\n",
    "print (sortedlist2)\n",
    "sortedlist1\n"
   ]
  },
  {
   "cell_type": "markdown",
   "metadata": {},
   "source": [
    "Pat 2: task 2-Q1"
   ]
  },
  {
   "cell_type": "code",
   "execution_count": 18,
   "metadata": {},
   "outputs": [
    {
     "name": "stdout",
     "output_type": "stream",
     "text": [
      "n1:{'n2': 10, 'n4': 20, 'n5': 20, 'n6': 5, 'n7': 15}\n",
      "n2:{'n3': 5, 'n4': 10}\n",
      "n3:{'n4': 5, 'n2': 15}\n",
      "n4:{'n5': 10}\n",
      "n5:{'n6': 5}\n",
      "n6:{}\n",
      "n7:{'n6': 10}\n",
      "n8:{'n2': 20, 'n1': 5, 'n7': 5}\n",
      "n9:{'n10': 10, 'n2': 15, 'n8': 20}\n",
      "n10:{'n3': 15, 'n2': 5}\n",
      "first graph, n1,n2,n3,\n",
      "second graph, n4,n5,n6\n",
      "third graph union n7,n8,n9,n10,n1,n2,n3,n4,n5,n6\n"
     ]
    }
   ],
   "source": [
    "from graph_project import node, Graph\n",
    "node1=node('n1')\n",
    "node1.update('n2',10)\n",
    "node1.update('n4',20)\n",
    "node1.update('n5',20)\n",
    "node1.update('n6',5)\n",
    "node1.update('n7',15)\n",
    "\n",
    "node2=node('n2')\n",
    "node2.update('n3',5)\n",
    "node2.update('n4',10)\n",
    "\n",
    "\n",
    "node3=node('n3')\n",
    "node3.update('n4',5)\n",
    "node3.update('n2',15)\n",
    "    \n",
    "node4=node('n4')\n",
    "node4.update('n5',10)\n",
    "\n",
    "node5=node('n5')\n",
    "node5.update('n6',5)\n",
    "\n",
    "node6=node('n6')\n",
    "\n",
    "node7=node('n7')\n",
    "node7.update('n6',10)\n",
    "\n",
    "node8=node('n8')\n",
    "node8.update('n2',20)\n",
    "node8.update('n1',5)\n",
    "node8.update('n7',5)\n",
    "\n",
    "node9=node('n9')\n",
    "node9.update('n10',10)\n",
    "node9.update('n2',15)\n",
    "node9.update('n8',20)\n",
    "\n",
    "node10=node('n10')\n",
    "node10.update('n3',15)\n",
    "node10.update('n2',5)\n",
    "print (f'{node1}:{node1.neighbors}')\n",
    "print (f'{node2}:{node2.neighbors}')\n",
    "print (f'{node3}:{node3.neighbors}')\n",
    "print (f'{node4}:{node4.neighbors}')\n",
    "print (f'{node5}:{node5.neighbors}')\n",
    "print (f'{node6}:{node6.neighbors}')\n",
    "print (f'{node7}:{node7.neighbors}')\n",
    "print (f'{node8}:{node8.neighbors}')\n",
    "print (f'{node9}:{node9.neighbors}')\n",
    "print (f'{node10}:{node10.neighbors}')\n",
    "    \n",
    "\n",
    "nodeslist1 = [node1,node2,node3]\n",
    "nodeslist2 = [node4,node5,node6]\n",
    "nodeslist3 = [node7,node8,node9,node10]\n",
    "\n",
    "mygraph1=Graph(\"graphnodes1\",nodeslist1)\n",
    "mygraph2=Graph(\"graphnodes2\",nodeslist2)\n",
    "mygraph=Graph(\"graphnodes3\",nodeslist3)\n",
    "\n",
    "nodeslist = [node1,node2,node3,node4,node5,node6,node7,node8,node9,node10]\n",
    "\n",
    "mygraph += mygraph1+mygraph2\n",
    "print (f'first graph, {mygraph1},\\nsecond graph, {mygraph2}')\n",
    "print (f'third graph union {mygraph}')"
   ]
  },
  {
   "cell_type": "markdown",
   "metadata": {},
   "source": [
    "Pat 2: task 2-Q2"
   ]
  },
  {
   "cell_type": "code",
   "execution_count": 19,
   "metadata": {},
   "outputs": [
    {
     "name": "stdout",
     "output_type": "stream",
     "text": [
      "n7,n8,n9,n10,n1,n2,n3,n4,n5,n6\n",
      "True\n",
      "False\n",
      "True\n",
      "n1,n2,n3\n",
      "n1,n2,n3,n4\n",
      "dict_items([('n5', 10)])\n",
      "{'n2': 10, 'n4': 20, 'n5': 20, 'n6': 5, 'n7': 15}\n",
      "True\n",
      "False\n",
      "False\n",
      "None\n",
      "{'n2': 10, 'n4': 20, 'n5': 20, 'n6': 5, 'n7': 15}\n",
      "{'n2': 10, 'n4': 20, 'n5': 20, 'n6': 5, 'n7': 15, 'n8': 10}\n",
      "{'n2': 10, 'n4': 20, 'n5': 20, 'n6': 5, 'n7': 15, 'n8': 10}\n",
      "{'n2': 10, 'n4': 20, 'n5': 20, 'n6': 5, 'n7': 15}\n",
      "{'n2': 10, 'n4': 20, 'n5': 20, 'n6': 5, 'n7': 15}\n",
      "get edge weight 10\n",
      "n1,n2,n3,n4\n",
      "get edge weight None\n",
      "get edge weight None\n",
      "n7,n8,n9,n10,n1,n2,n3,n4,n5,n6\n",
      "25\n",
      "35\n",
      "None\n",
      "None\n",
      "{'n2': 10, 'n4': 20, 'n5': 20, 'n6': 5, 'n7': 15}\n",
      "True\n",
      "None\n",
      "None\n",
      "shortest way ('n1', 'n6')\n",
      "shortest way ('n9', 'n8', 'n1', 'n6')\n",
      "shortest way ('n9', 'n2', 'n4')\n",
      "shortest way None\n",
      "shortest way None\n"
     ]
    }
   ],
   "source": [
    "#str\n",
    "print (mygraph)\n",
    "#len\n",
    "len(mygraph)\n",
    "#contains\n",
    "print('n1' in mygraph)\n",
    "print('n11' in mygraph)\n",
    "print (node3 in mygraph)\n",
    "#update\n",
    "print(mygraph1)\n",
    "mygraph1.update(node4)\n",
    "print(mygraph1)\n",
    "print(mygraph1.nodes['n4'].neighbors.items())#getitem\n",
    "#getitem\n",
    "mygraph['n1']\n",
    "#remove_node\n",
    "#print (mygraph)\n",
    "#print(mygraph.nodes['n4'].neighbors.items())\n",
    "#mygraph.remove_node('n4')\n",
    "#print ('after remove node4',mygraph)\n",
    "#is_edge\n",
    "print(mygraph['n1'].neighbors)\n",
    "print(mygraph.is_edge('n1','n2'))\n",
    "print(mygraph.is_edge('n1','n8'))\n",
    "print(mygraph.is_edge('n1','n22'))\n",
    "print(mygraph.is_edge('n88','n22'))\n",
    "\n",
    "#add_edge\n",
    "print(mygraph['n1'].neighbors)\n",
    "mygraph.add_edge('n1','n8',10)\n",
    "print(mygraph['n1'].neighbors)\n",
    "mygraph.add_edge('n1','n8',1)\n",
    "print(mygraph['n1'].neighbors)\n",
    "#remove_edge\n",
    "mygraph.remove_edge('n1','n8')\n",
    "print(mygraph['n1'].neighbors)\n",
    "mygraph.remove_edge('n1','n11')\n",
    "mygraph.remove_edge('n4','n11')\n",
    "mygraph.remove_edge('n4','n18')\n",
    "print(mygraph['n1'].neighbors)\n",
    "#get edge weight\n",
    "print('get edge weight',mygraph.get_edge_weight('n1','n2'))\n",
    "print(mygraph1)\n",
    "print('get edge weight',mygraph1.get_edge_weight('n5','n2'))\n",
    "print('get edge weight',mygraph1.get_edge_weight('n11','n22'))\n",
    "\n",
    "#get path weight\n",
    "print(mygraph)\n",
    "x=['n1','n5','n6']\n",
    "y=['n1','n4','n5','n6']\n",
    "z=['']\n",
    "p=['5']\n",
    "print (mygraph.get_path_weight(x))\n",
    "print (mygraph.get_path_weight(y))\n",
    "print (mygraph.get_path_weight(z))\n",
    "print (mygraph.get_path_weight(p))\n",
    "\n",
    "#is_reachable\n",
    "print(mygraph['n1'].neighbors)\n",
    "print(mygraph.is_reachable('n1','n6'))\n",
    "print(mygraph.is_reachable('n1','n8'))\n",
    "print(mygraph.is_reachable('n11','n8'))\n",
    "\n",
    "#find_shortest_path\n",
    "print('shortest way',mygraph.find_shortest_path('n1','n6'))\n",
    "print('shortest way',mygraph.find_shortest_path('n9','n6'))\n",
    "print('shortest way',mygraph.find_shortest_path('n9','n4'))\n",
    "print('shortest way',mygraph.find_shortest_path('n9','n11'))\n",
    "print('shortest way',mygraph.find_shortest_path('n3','n7'))\n"
   ]
  },
  {
   "cell_type": "markdown",
   "metadata": {},
   "source": [
    "Part 2: task 2-Q3"
   ]
  },
  {
   "cell_type": "code",
   "execution_count": 20,
   "metadata": {},
   "outputs": [
    {
     "name": "stdout",
     "output_type": "stream",
     "text": [
      "sorted nodes list by length neighbors\n",
      " ['n6', 'n7', 'n4', 'n5', 'n10', 'n2', 'n3', 'n8', 'n9', 'n1']\n"
     ]
    }
   ],
   "source": [
    "print('sorted nodes list by length neighbors\\n',sorted(mygraph.nodes,key=lambda x:len(mygraph.nodes[x])))\n"
   ]
  },
  {
   "cell_type": "markdown",
   "metadata": {},
   "source": [
    "Part 2: task 2-Q4"
   ]
  },
  {
   "cell_type": "code",
   "execution_count": 21,
   "metadata": {},
   "outputs": [
    {
     "name": "stdout",
     "output_type": "stream",
     "text": [
      "the shortes path between ('n9', 'n10', 'n2', 'n3', 'n4', 'n5') has the highest weight of 35\n"
     ]
    }
   ],
   "source": [
    "maxweight = None\n",
    "maxweightpath= None\n",
    "for from_path in mygraph.nodes.keys():\n",
    "    for to_path in mygraph.nodes.keys():\n",
    "        if mygraph.is_reachable(from_path,to_path):\n",
    "            if maxweight == None:\n",
    "                maxweight = mygraph.get_path_weight(mygraph.find_shortest_path(from_path,to_path))\n",
    "                maxweightpath = mygraph.find_shortest_path(from_path,to_path)\n",
    "                \n",
    "            elif maxweight < mygraph.get_path_weight(mygraph.find_shortest_path(from_path,to_path)):\n",
    "                maxweight = mygraph.get_path_weight(mygraph.find_shortest_path(from_path,to_path))\n",
    "                maxweightpath = mygraph.find_shortest_path(from_path,to_path)\n",
    "                \n",
    "#print('path weight',mygraph1.find_shortest_path(from_path,to_path))\n",
    "#print('path weight',mygraph1.get_path_weight(mygraph1.find_shortest_path(from_path,to_path)))\n",
    "            \n",
    "print (f'the shortes path between {maxweightpath} has the highest weight of {maxweight}')"
   ]
  },
  {
   "cell_type": "markdown",
   "metadata": {},
   "source": [
    "Part 3: Q1"
   ]
  },
  {
   "cell_type": "code",
   "execution_count": 22,
   "metadata": {},
   "outputs": [
    {
     "name": "stdout",
     "output_type": "stream",
     "text": [
      "5377\n"
     ]
    }
   ],
   "source": [
    "#create graph1: import from file\n",
    "from datetime import datetime,timedelta\n",
    "\n",
    "traveldata1 = []\n",
    "with open('travelsew.csv') as myfile1:\n",
    "    data1 = myfile1.read().split('\\n')\n",
    "#pop out the headlines\n",
    "data1.pop(0)\n",
    "#enter data from file, without bad data entry lines\n",
    "for line in data1:     \n",
    "    words = line.split(',')\n",
    "    try:\n",
    "        starttime = datetime.strptime(words[1],\"%d/%m/%Y %Hh%Mm\")\n",
    "        endtime = datetime.strptime(words[3],\"%d/%m/%Y %Hh%Mm\")\n",
    "        traveltime = endtime-starttime\n",
    "        x = [words[0],words[2],traveltime]\n",
    "        traveldata1.append(x)\n",
    "    except:\n",
    "        continue\n",
    "roads = []\n",
    "for line in traveldata1:\n",
    "    if roads == []:\n",
    "        roads.append([line[0],line[1]])\n",
    "    elif [line[0],line[1]] not in roads:\n",
    "        roads.append([line[0],line[1]])\n",
    "        \n",
    "#find the length of roads\n",
    "i = 0\n",
    "for road in roads: \n",
    "    distance = timedelta(days=0, minutes=0, seconds=0)\n",
    "    counter = 0\n",
    "\n",
    "    for line in traveldata1:\n",
    "        if road[0] in line[0] and road[1] in line[1]:\n",
    "            distance+=line[2]\n",
    "            counter+=1\n",
    "    roads[i].append(distance/counter)\n",
    "    i+=1\n",
    "print(roads[0][2].seconds)\n",
    "\n"
   ]
  },
  {
   "cell_type": "code",
   "execution_count": 23,
   "metadata": {},
   "outputs": [
    {
     "name": "stdout",
     "output_type": "stream",
     "text": [
      "{'Center': <graph_project.node object at 0x000001FE13380CC0>, 'East': <graph_project.node object at 0x000001FE133807B8>}\n",
      "{'South': 3596}\n"
     ]
    }
   ],
   "source": [
    "#create graph1: import from file\n",
    "from graph_project import node,Graph\n",
    "\n",
    "#create uniuqe list of placelist\n",
    "placelist = []\n",
    "for road in roads:\n",
    "    if road[0] not in placelist:\n",
    "        placelist.append(road[0])\n",
    "    \n",
    "for i in range(len(placelist)):\n",
    "    for road in roads:\n",
    "        if type(placelist[i])!=node and placelist[i]==road[0]:\n",
    "            placelist[i]=node(road[0])\n",
    "#            placelist[i].update(road[1],road[2])\n",
    "            placelist[i].update(road[1],road[2].seconds)\n",
    "        elif type(placelist[i])==node and placelist[i].name==road[0]:\n",
    "#            placelist[i].update(road[1],road[2])\n",
    "            placelist[i].update(road[1],road[2].seconds)\n",
    "\n",
    "roadgraph1=Graph('roadg1',placelist)\n",
    "print(roadgraph1.nodes)\n",
    "print(roadgraph1['East'].neighbors)"
   ]
  },
  {
   "cell_type": "markdown",
   "metadata": {},
   "source": [
    "Part 3-Q1 second file"
   ]
  },
  {
   "cell_type": "code",
   "execution_count": 24,
   "metadata": {},
   "outputs": [
    {
     "name": "stdout",
     "output_type": "stream",
     "text": [
      "[['South', 'East', datetime.timedelta(seconds=1070, microseconds=581395)], ['West', 'North', datetime.timedelta(seconds=2755, microseconds=125000)], ['Center', 'South', datetime.timedelta(seconds=12900, microseconds=727273)], ['Center', 'East', datetime.timedelta(seconds=3244, microseconds=472050)], ['North', 'Center', datetime.timedelta(seconds=4045, microseconds=116279)], ['West', 'Center', datetime.timedelta(seconds=8692, microseconds=771084)]]\n"
     ]
    }
   ],
   "source": [
    "#create graph2: import from file\n",
    "from datetime import datetime,timedelta\n",
    "\n",
    "traveldata1 = []\n",
    "with open('travelswe.csv') as myfile1:\n",
    "    data1 = myfile1.read().split('\\n')\n",
    "#pop out the headlines\n",
    "data1.pop(0)\n",
    "#enter data from file, without bad data entry lines\n",
    "for line in data1:     \n",
    "    words = line.split(',')\n",
    "    try:\n",
    "        starttime = datetime.strptime(words[1],'%H:%M:%S%p ; %b %d %y')\n",
    "        endtime = datetime.strptime(words[3],'%H:%M:%S%p ; %b %d %y')\n",
    "        traveltime = endtime-starttime\n",
    "        x = [words[0],words[2],traveltime]\n",
    "        traveldata1.append(x)\n",
    "    except:\n",
    "        continue\n",
    "roads = []\n",
    "for line in traveldata1:\n",
    "    if roads == []:\n",
    "        roads.append([line[0],line[1]])\n",
    "    elif [line[0],line[1]] not in roads:\n",
    "        roads.append([line[0],line[1]])\n",
    "        \n",
    "#find the length of roads\n",
    "i = 0\n",
    "for road in roads: \n",
    "    distance = timedelta(days=0, minutes=0, seconds=0)\n",
    "    counter = 0\n",
    "\n",
    "    for line in traveldata1:\n",
    "        if road[0] in line[0] and road[1] in line[1]:\n",
    "            distance+=line[2]\n",
    "            counter+=1\n",
    "    roads[i].append(distance/counter)\n",
    "    i+=1\n",
    "print(roads)\n",
    "\n"
   ]
  },
  {
   "cell_type": "code",
   "execution_count": 25,
   "metadata": {},
   "outputs": [
    {
     "name": "stdout",
     "output_type": "stream",
     "text": [
      "South,West,Center,North\n",
      "{'South': <graph_project.node object at 0x000001FE1326B898>, 'West': <graph_project.node object at 0x000001FE1326B6A0>, 'Center': <graph_project.node object at 0x000001FE1326BF98>, 'North': <graph_project.node object at 0x000001FE1326BE10>}\n",
      "{'South': 12900, 'East': 3244}\n"
     ]
    }
   ],
   "source": [
    "#create graph2: import from file\n",
    "from graph_project import node,Graph\n",
    "\n",
    "#create uniuqe list of placelist\n",
    "placelist = []\n",
    "for road in roads:\n",
    "    if road[0] not in placelist:\n",
    "        placelist.append(road[0])\n",
    "    \n",
    "for i in range(len(placelist)):\n",
    "    for road in roads:\n",
    "        if type(placelist[i])!=node and placelist[i]==road[0]:\n",
    "            placelist[i]=node(road[0])\n",
    "            placelist[i].update(road[1],road[2].seconds)\n",
    "        elif type(placelist[i])==node and placelist[i].name==road[0]:\n",
    "            placelist[i].update(road[1],road[2].seconds)\n",
    "\n",
    "roadgraph2=Graph('roadg2',placelist)\n",
    "print (roadgraph2)\n",
    "print(roadgraph2.nodes)\n",
    "print(roadgraph2['Center'].neighbors)\n",
    "roadgraph1+=roadgraph2\n"
   ]
  },
  {
   "cell_type": "code",
   "execution_count": 26,
   "metadata": {},
   "outputs": [
    {
     "name": "stdout",
     "output_type": "stream",
     "text": [
      "Center {'South': 12900, 'East': 3244}\n",
      "East {'South': 3596}\n",
      "South {'East': 1070}\n",
      "West {'North': 2755, 'Center': 8692}\n",
      "North {'Center': 4045}\n"
     ]
    }
   ],
   "source": [
    "for node in roadgraph1.nodes.values():\n",
    "    print (node.name,node.neighbors)\n",
    "#print(roadgraph1.nodes.values())\n",
    "#for key in roadgraph1.nodes.keys():\n",
    " #   print(roadgraph1[key].neighbors)\n"
   ]
  },
  {
   "cell_type": "markdown",
   "metadata": {},
   "source": [
    "part 3: Q2-region take the longest"
   ]
  },
  {
   "cell_type": "code",
   "execution_count": 18,
   "metadata": {},
   "outputs": [
    {
     "name": "stdout",
     "output_type": "stream",
     "text": [
      "the shortes path between ('West', 'North', 'Center', 'East', 'South') has the highest weight of 13640 seconds\n"
     ]
    }
   ],
   "source": [
    "maxweight = None\n",
    "maxweightpath= None\n",
    "for from_path in roadgraph1.nodes.keys():\n",
    "    for to_path in roadgraph1.nodes.keys():\n",
    "        if roadgraph1.is_reachable(from_path,to_path):\n",
    "            if maxweight == None:\n",
    "                maxweight = roadgraph1.get_path_weight(roadgraph1.find_shortest_path(from_path,to_path))\n",
    "                maxweightpath = roadgraph1.find_shortest_path(from_path,to_path)\n",
    "                \n",
    "            elif maxweight < roadgraph1.get_path_weight(roadgraph1.find_shortest_path(from_path,to_path)):\n",
    "                maxweight = roadgraph1.get_path_weight(roadgraph1.find_shortest_path(from_path,to_path))\n",
    "                maxweightpath = roadgraph1.find_shortest_path(from_path,to_path)\n",
    "                \n",
    "#print('path weight',roadgraph1.find_shortest_path(from_path,to_path))\n",
    "#print('path weight',roadgraph1.get_path_weight(roadgraph1.find_shortest_path(from_path,to_path)))\n",
    "            \n",
    "print (f'the shortes path between {maxweightpath} has the highest weight of {maxweight} seconds')"
   ]
  },
  {
   "cell_type": "code",
   "execution_count": null,
   "metadata": {},
   "outputs": [],
   "source": []
  },
  {
   "cell_type": "code",
   "execution_count": 27,
   "metadata": {},
   "outputs": [
    {
     "name": "stdout",
     "output_type": "stream",
     "text": [
      "n1:{'n2': 10, 'n4': 20, 'n5': 20, 'n6': 5, 'n7': 15}\n",
      "n2:{'n3': 5, 'n4': 10}\n",
      "n3:{'n4': 5, 'n2': 15}\n",
      "n4:{'n5': 10}\n",
      "n5:{'n6': 5}\n",
      "n6:{}\n",
      "n7:{'n6': 10}\n",
      "n8:{'n2': 20, 'n1': 5, 'n7': 5}\n",
      "n9:{'n10': 10, 'n2': 15, 'n8': 20}\n",
      "n10:{'n3': 15, 'n2': 5}\n",
      "mygraph union n1,n2,n3,n4,n5,n6,n7,n8,n9,n10\n"
     ]
    }
   ],
   "source": [
    "from graph_project import Graph,node,NonDirectionalGraph\n",
    "\n",
    "node1=node('n1')\n",
    "node1.update('n2',10)\n",
    "node1.update('n4',20)\n",
    "node1.update('n5',20)\n",
    "node1.update('n6',5)\n",
    "node1.update('n7',15)\n",
    "\n",
    "node2=node('n2')\n",
    "node2.update('n3',5)\n",
    "node2.update('n4',10)\n",
    "\n",
    "\n",
    "node3=node('n3')\n",
    "node3.update('n4',5)\n",
    "node3.update('n2',15)\n",
    "    \n",
    "node4=node('n4')\n",
    "node4.update('n5',10)\n",
    "\n",
    "node5=node('n5')\n",
    "node5.update('n6',5)\n",
    "\n",
    "node6=node('n6')\n",
    "\n",
    "node7=node('n7')\n",
    "node7.update('n6',10)\n",
    "\n",
    "node8=node('n8')\n",
    "node8.update('n2',20)\n",
    "node8.update('n1',5)\n",
    "node8.update('n7',5)\n",
    "\n",
    "node9=node('n9')\n",
    "node9.update('n10',10)\n",
    "node9.update('n2',15)\n",
    "node9.update('n8',20)\n",
    "\n",
    "node10=node('n10')\n",
    "node10.update('n3',15)\n",
    "node10.update('n2',5)\n",
    "print (f'{node1}:{node1.neighbors}')\n",
    "print (f'{node2}:{node2.neighbors}')\n",
    "print (f'{node3}:{node3.neighbors}')\n",
    "print (f'{node4}:{node4.neighbors}')\n",
    "print (f'{node5}:{node5.neighbors}')\n",
    "print (f'{node6}:{node6.neighbors}')\n",
    "print (f'{node7}:{node7.neighbors}')\n",
    "print (f'{node8}:{node8.neighbors}')\n",
    "print (f'{node9}:{node9.neighbors}')\n",
    "print (f'{node10}:{node10.neighbors}')\n",
    "    \n",
    "nodeslist= [node1,node2,node3,node4,node5,node6,node7,node8,node9,node10]\n",
    "nodeslist1 = [node1,node2,node3]\n",
    "nodeslist2 = [node4,node5,node6]\n",
    "nodeslist3 = [node7,node8,node9,node10]\n",
    "\n",
    "mygraph1=Graph(\"graphnodes1\",nodeslist1)\n",
    "mygraph2=Graph(\"graphnodes2\",nodeslist2)\n",
    "mygraph=Graph(\"graphnodes\",nodeslist)\n",
    "\n",
    "print (f'mygraph union {mygraph}')\n",
    "mynongraph = NonDirectionalGraph('nongraph',nodeslist)"
   ]
  },
  {
   "cell_type": "markdown",
   "metadata": {},
   "source": [
    "Part3: Non-directional graph-taks2-Q1"
   ]
  },
  {
   "cell_type": "code",
   "execution_count": 28,
   "metadata": {},
   "outputs": [],
   "source": [
    "from graph_project import Graph,node,NonDirectionalGraph\n"
   ]
  },
  {
   "cell_type": "code",
   "execution_count": 29,
   "metadata": {},
   "outputs": [
    {
     "name": "stdout",
     "output_type": "stream",
     "text": [
      "the max connection in the same time for all the network is 54\n"
     ]
    }
   ],
   "source": [
    "with open('social.txt','r') as f:\n",
    "    text = f.readlines()\n",
    "friends = set([line.split()[0] for line in text])\n",
    "friendnodelist=[]\n",
    "\n",
    "for friend in friends:\n",
    "    friend = node(friend)\n",
    "    friendnodelist.append(friend)\n",
    "\n",
    "socail = NonDirectionalGraph('soc',friendnodelist)\n",
    "socail.nodes\n",
    "\n",
    "counter = 0\n",
    "maxrealations = None\n",
    "for line in text:\n",
    "    from_f = line.split()[0]\n",
    "    to = line.split()[2]\n",
    "    happend = line.split()[3]\n",
    "    if happend=='became':\n",
    "        socail.add_edge(from_f,to,1)\n",
    "        counter+=1\n",
    "    else:\n",
    "        socail.remove_edge(from_f,to)\n",
    "        counter-=1\n",
    "    if maxrealations==None:\n",
    "        maxrealations = counter\n",
    "    elif maxrealations<counter: \n",
    "        maxrealations = counter\n",
    "print (f'the max connection in the same time for all the network is {maxrealations}')"
   ]
  },
  {
   "cell_type": "markdown",
   "metadata": {},
   "source": [
    "Part3: Non-directional graph-taks2-Q2"
   ]
  },
  {
   "cell_type": "code",
   "execution_count": 30,
   "metadata": {},
   "outputs": [
    {
     "name": "stdout",
     "output_type": "stream",
     "text": [
      "the max connection in the same time for Reuben is 10\n"
     ]
    }
   ],
   "source": [
    "with open('social.txt','r') as f:\n",
    "    text = f.readlines()\n",
    "friends = set([line.split()[0] for line in text])\n",
    "friendnodelist=[]\n",
    "\n",
    "for friend in friends:\n",
    "    friend = node(friend)\n",
    "    friendnodelist.append(friend)\n",
    "\n",
    "socail = NonDirectionalGraph('soc',friendnodelist)\n",
    "socail.nodes\n",
    "\n",
    "maxrealations = 0\n",
    "for line in text:\n",
    "    from_f = line.split()[0]\n",
    "    to = line.split()[2]\n",
    "    happend = line.split()[3]\n",
    "    if happend=='became':\n",
    "        socail.add_edge(from_f,to,1)\n",
    "        counter+=1\n",
    "    else:\n",
    "        socail.remove_edge(from_f,to)\n",
    "        counter-=1\n",
    "    if maxrealations==None and len(socail.nodes['Reuben'].neighbors)>=1:\n",
    "        maxrealations = len(socail.nodes['Reuben'].neighbors)\n",
    "    elif maxrealations<len(socail.nodes['Reuben'].neighbors): \n",
    "        maxrealations = len(socail.nodes['Reuben'].neighbors)\n",
    "print (f'the max connection in the same time for Reuben is {maxrealations}')"
   ]
  },
  {
   "cell_type": "markdown",
   "metadata": {},
   "source": [
    "Part3: Non-directional graph-taks2-Q4: suggest_friend"
   ]
  },
  {
   "cell_type": "code",
   "execution_count": 31,
   "metadata": {},
   "outputs": [
    {
     "data": {
      "text/plain": [
       "'Judah'"
      ]
     },
     "execution_count": 31,
     "metadata": {},
     "output_type": "execute_result"
    }
   ],
   "source": [
    "socail.suggest_friend('Reuben')"
   ]
  },
  {
   "cell_type": "markdown",
   "metadata": {},
   "source": [
    "Part3: Non-directional graph-taks2-Q3: maximal patg between nodes"
   ]
  },
  {
   "cell_type": "code",
   "execution_count": 5,
   "metadata": {},
   "outputs": [
    {
     "ename": "NameError",
     "evalue": "name 'socail' is not defined",
     "output_type": "error",
     "traceback": [
      "\u001b[1;31m---------------------------------------------------------------------------\u001b[0m",
      "\u001b[1;31mNameError\u001b[0m                                 Traceback (most recent call last)",
      "\u001b[1;32m<ipython-input-5-0c0024c394b8>\u001b[0m in \u001b[0;36m<module>\u001b[1;34m\u001b[0m\n\u001b[0;32m      1\u001b[0m \u001b[0mmaxweight\u001b[0m \u001b[1;33m=\u001b[0m \u001b[1;32mNone\u001b[0m\u001b[1;33m\u001b[0m\u001b[1;33m\u001b[0m\u001b[0m\n\u001b[0;32m      2\u001b[0m \u001b[0mmaxweightpath\u001b[0m\u001b[1;33m=\u001b[0m \u001b[1;32mNone\u001b[0m\u001b[1;33m\u001b[0m\u001b[1;33m\u001b[0m\u001b[0m\n\u001b[1;32m----> 3\u001b[1;33m \u001b[1;32mfor\u001b[0m \u001b[0mfrom_path\u001b[0m \u001b[1;32min\u001b[0m \u001b[0msocail\u001b[0m\u001b[1;33m.\u001b[0m\u001b[0mnodes\u001b[0m\u001b[1;33m.\u001b[0m\u001b[0mkeys\u001b[0m\u001b[1;33m(\u001b[0m\u001b[1;33m)\u001b[0m\u001b[1;33m:\u001b[0m\u001b[1;33m\u001b[0m\u001b[1;33m\u001b[0m\u001b[0m\n\u001b[0m\u001b[0;32m      4\u001b[0m     \u001b[1;32mfor\u001b[0m \u001b[0mto_path\u001b[0m \u001b[1;32min\u001b[0m \u001b[0msocail\u001b[0m\u001b[1;33m.\u001b[0m\u001b[0mnodes\u001b[0m\u001b[1;33m.\u001b[0m\u001b[0mkeys\u001b[0m\u001b[1;33m(\u001b[0m\u001b[1;33m)\u001b[0m\u001b[1;33m:\u001b[0m\u001b[1;33m\u001b[0m\u001b[1;33m\u001b[0m\u001b[0m\n\u001b[0;32m      5\u001b[0m         \u001b[1;32mif\u001b[0m \u001b[0msocail\u001b[0m\u001b[1;33m.\u001b[0m\u001b[0mis_reachable\u001b[0m\u001b[1;33m(\u001b[0m\u001b[0mfrom_path\u001b[0m\u001b[1;33m,\u001b[0m\u001b[0mto_path\u001b[0m\u001b[1;33m)\u001b[0m\u001b[1;33m:\u001b[0m\u001b[1;33m\u001b[0m\u001b[1;33m\u001b[0m\u001b[0m\n",
      "\u001b[1;31mNameError\u001b[0m: name 'socail' is not defined"
     ]
    }
   ],
   "source": [
    "maxweight = None\n",
    "maxweightpath= None\n",
    "for from_path in socail.nodes.keys():\n",
    "    for to_path in socail.nodes.keys():\n",
    "        if socail.is_reachable(from_path,to_path):\n",
    "            if maxweight == None:\n",
    "                maxweight = socail.get_path_weight(socail.find_shortest_path(from_path,to_path))\n",
    "                maxweightpath = socail.find_shortest_path(from_path,to_path)\n",
    "                \n",
    "            elif maxweight < socail.get_path_weight(socail.find_shortest_path(from_path,to_path)):\n",
    "                maxweight = socail.get_path_weight(socail.find_shortest_path(from_path,to_path))\n",
    "                maxweightpath = socail.find_shortest_path(from_path,to_path)"
   ]
  },
  {
   "cell_type": "code",
   "execution_count": null,
   "metadata": {},
   "outputs": [],
   "source": []
  },
  {
   "cell_type": "code",
   "execution_count": null,
   "metadata": {},
   "outputs": [],
   "source": []
  }
 ],
 "metadata": {
  "kernelspec": {
   "display_name": "Python 3",
   "language": "python",
   "name": "python3"
  },
  "language_info": {
   "codemirror_mode": {
    "name": "ipython",
    "version": 3
   },
   "file_extension": ".py",
   "mimetype": "text/x-python",
   "name": "python",
   "nbconvert_exporter": "python",
   "pygments_lexer": "ipython3",
   "version": "3.7.1"
  }
 },
 "nbformat": 4,
 "nbformat_minor": 2
}
